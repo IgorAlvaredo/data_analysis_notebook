{
 "cells": [
  {
   "cell_type": "markdown",
   "metadata": {},
   "source": [
    "# Gerador de dados para teste"
   ]
  },
  {
   "cell_type": "markdown",
   "metadata": {},
   "source": [
    "Este código em Python gera um conjunto fictício de dados pessoais utilizando as bibliotecas Faker e pandas. Ele cria uma lista de 10 pessoas, cada uma com informações como nome, CPF, idade, data de nascimento, endereço, estado e país. Esses dados são então organizados em um DataFrame do pandas e exportados para um arquivo CSV.\n"
   ]
  },
  {
   "cell_type": "markdown",
   "metadata": {},
   "source": [
    "## 1. Importação das Bibliotecas"
   ]
  },
  {
   "cell_type": "code",
   "execution_count": 1,
   "metadata": {},
   "outputs": [],
   "source": [
    "import pandas as pd\n",
    "import random\n",
    "from faker import Faker\n"
   ]
  },
  {
   "cell_type": "markdown",
   "metadata": {},
   "source": [
    "* pandas: Biblioteca usada para manipulação e análise de dados, especialmente com estruturas como DataFrames.\n",
    "* random: Biblioteca que oferece funções para geração de números aleatórios.\n",
    "* Faker: Biblioteca para gerar dados fictícios, como nomes, endereços e datas."
   ]
  },
  {
   "cell_type": "markdown",
   "metadata": {},
   "source": [
    "## 2. Criação de uma Instância do Faker"
   ]
  },
  {
   "cell_type": "code",
   "execution_count": null,
   "metadata": {},
   "outputs": [],
   "source": [
    "faker = Faker('pt_BR')"
   ]
  },
  {
   "cell_type": "markdown",
   "metadata": {},
   "source": [
    "* Faker('pt_BR'): Cria uma instância do Faker configurada para gerar dados no formato brasileiro, como nomes, CPF, endereços, etc.\n"
   ]
  },
  {
   "cell_type": "markdown",
   "metadata": {},
   "source": [
    "## 3. Inicialização de uma Lista Vazia"
   ]
  },
  {
   "cell_type": "code",
   "execution_count": null,
   "metadata": {},
   "outputs": [],
   "source": [
    "dados_pessoas = []"
   ]
  },
  {
   "cell_type": "markdown",
   "metadata": {},
   "source": [
    "* dados_pessoas: Lista vazia onde serão armazenados os dicionários que contêm os dados de cada pessoa fictícia."
   ]
  },
  {
   "cell_type": "markdown",
   "metadata": {},
   "source": [
    "## 4. Loop para Gerar Dados Fictícios"
   ]
  },
  {
   "cell_type": "code",
   "execution_count": null,
   "metadata": {},
   "outputs": [],
   "source": [
    "for _ in range(10):\n",
    "    nome = faker.name()\n",
    "    cpf = faker.cpf()\n",
    "    idade = random.randint(18, 60)\n",
    "    data = faker.date_of_birth(minimum_age=idade, maximum_age=idade).strftime(\"%d/%m/%y\")\n",
    "    endereco = faker.address()\n",
    "    estado = faker.state()\n",
    "    pais = 'Brasil'\n",
    "\n",
    "    pessoa = {\n",
    "        'nome': nome,\n",
    "        'cpf': cpf,\n",
    "        'idade': idade,\n",
    "        'data': data,\n",
    "        'endereco': endereco,\n",
    "        'estado': estado,\n",
    "        'pais': pais\n",
    "    }\n",
    "\n",
    "    dados_pessoas.append(pessoa)\n"
   ]
  },
  {
   "cell_type": "markdown",
   "metadata": {},
   "source": [
    "* for _ in range(10):: Um loop que executa 10 vezes para gerar dados de 10 pessoas.\n",
    "* nome = faker.name(): Gera um nome fictício.\n",
    "* cpf = faker.cpf(): Gera um CPF fictício no formato brasileiro.\n",
    "* idade = random.randint(18, 60): Gera uma idade aleatória entre 18 e 60 anos.\n",
    "* data = faker.date_of_birth(minimum_age=idade, maximum_age=idade).strftime(\"%d/%m/%y\"): Gera uma data de nascimento fictícia com base na idade gerada, formatada no formato dd/mm/yy.\n",
    "* endereco = faker.address(): Gera um endereço fictício.\n",
    "* estado = faker.state(): Gera o nome de um estado fictício do Brasil.\n",
    "* pais = 'Brasil': Define o país como \"Brasil\" (constante para todos).\n",
    "\n",
    "## 5. Criação de um Dicionário com os Dados da Pessoa\n",
    "* pessoa: Dicionário que armazena os dados gerados para uma pessoa (nome, CPF, idade, etc.).\n",
    "\n",
    "## 6. Adição do Dicionário à Lista\n",
    "\n",
    "* dados_pessoas.append(pessoa): Adiciona o dicionário criado na iteração atual à lista dados_pessoas."
   ]
  },
  {
   "cell_type": "markdown",
   "metadata": {},
   "source": [
    "# 7. Criação de um DataFrame"
   ]
  },
  {
   "cell_type": "markdown",
   "metadata": {},
   "source": [
    "# 7. Criação de um DataFrame"
   ]
  },
  {
   "cell_type": "code",
   "execution_count": null,
   "metadata": {},
   "outputs": [],
   "source": [
    "df_pessoas = pd.DataFrame(dados_pessoas)\n",
    "print(df_pessoas)"
   ]
  },
  {
   "cell_type": "markdown",
   "metadata": {},
   "source": [
    "* df_pessoas = pd.DataFrame(dados_pessoas): Converte a lista de dicionários dados_pessoas em um DataFrame do pandas, uma estrutura de dados tabular.\n",
    "* print(df_pessoas): Exibe o DataFrame criado na saída padrão."
   ]
  },
  {
   "cell_type": "markdown",
   "metadata": {},
   "source": [
    "# 8. Configurações do Pandas (Comentado)"
   ]
  },
  {
   "cell_type": "code",
   "execution_count": null,
   "metadata": {},
   "outputs": [],
   "source": [
    "# pd.set_option('display.max_columns', None)\n",
    "# pd.set_option('display.max_rows', None)\n",
    "# pd.set_option('display.max_colwidth', None)\n",
    "# pd.set_option('display.width', None)"
   ]
  },
  {
   "cell_type": "markdown",
   "metadata": {},
   "source": [
    "* Estas linhas configuram a exibição do DataFrame no terminal. Contudo, estão comentadas, então não são executadas."
   ]
  },
  {
   "cell_type": "markdown",
   "metadata": {},
   "source": [
    "# 9. Exibição Completa do DataFrame"
   ]
  },
  {
   "cell_type": "code",
   "execution_count": null,
   "metadata": {},
   "outputs": [],
   "source": [
    "print(df_pessoas.to_string()) # head() tail()\n"
   ]
  },
  {
   "cell_type": "markdown",
   "metadata": {},
   "source": [
    "* df_pessoas.to_string(): Converte o DataFrame em uma string para exibição completa (sem truncamento de colunas ou linhas).\n",
    "* #head() tail(): Comentário indicando que as funções head() e tail() podem ser usadas para visualizar as primeiras ou últimas linhas do DataFrame."
   ]
  },
  {
   "cell_type": "markdown",
   "metadata": {},
   "source": [
    "# 10. Exportação para CSV"
   ]
  },
  {
   "cell_type": "code",
   "execution_count": null,
   "metadata": {},
   "outputs": [],
   "source": [
    "df_pessoas.to_csv('../clientes.csv')"
   ]
  },
  {
   "cell_type": "code",
   "execution_count": null,
   "metadata": {},
   "outputs": [],
   "source": []
  }
 ],
 "metadata": {
  "kernelspec": {
   "display_name": "Python 3 (ipykernel)",
   "language": "python",
   "name": "python3"
  },
  "language_info": {
   "codemirror_mode": {
    "name": "ipython",
    "version": 3
   },
   "file_extension": ".py",
   "mimetype": "text/x-python",
   "name": "python",
   "nbconvert_exporter": "python",
   "pygments_lexer": "ipython3",
   "version": "3.12.4"
  }
 },
 "nbformat": 4,
 "nbformat_minor": 4
}
