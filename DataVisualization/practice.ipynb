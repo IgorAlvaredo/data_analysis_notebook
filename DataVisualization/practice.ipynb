{
 "cells": [
  {
   "cell_type": "markdown",
   "metadata": {},
   "source": [
    "## Leitura de Arquivo"
   ]
  },
  {
   "cell_type": "code",
   "execution_count": 3,
   "metadata": {},
   "outputs": [
    {
     "name": "stdout",
     "output_type": "stream",
     "text": [
      "   Unnamed: 0                                                        Título  Nota  N_Avaliações  Desconto            Marca         Material               Gênero        Temporada                                                                                                                                                                                                                                                                                                                                                                                                                                                                                                       Review1                                                                                                                                                                                                                                                                                                                                                             Review2                                                                                                                                                                                                                                                                                                                                                                                         Review3 Qtd_Vendidos   Preço  Nota_MinMax  N_Avaliações_MinMax  Desconto_MinMax  Preço_MinMax  Marca_Cod  Material_Cod  Temporada_Cod  Qtd_Vendidos_Cod  Marca_Freq  Material_Freq\n",
      "0           1  Kit 10 Cuecas Boxer Lupo Cueca Box Algodão Masculina Atacado   4.5        3034.0      18.0             lupo          algodão            Masculino   outono/inverno       As cuecas são boas; porém você percebe na costura que não são originais! já experimentei duas brancas, e o mesmo acontece com as duas, quando eu subo a cueca, ela dá um estralinho como se tivesse rasgado e quando olhei, soltou um pouco da costura de lado! tem que vestir com muito cuidado! fora isso, é uma replica muito bem feita da original! aaah. Não gostei muito do elastico de cima! é muito curtinho, queria q fosse maior. Mas resumindo: cueca bem confortavel, nao dobra e nem sobe.  Pelo preço promocional, com ctz tem algum defeito de fabricação. Pq não é normal furar a cueca na imenda na primeira vez que vc usa. Infelizmente isso aconteceu comigo e não foi só com uma cueca e sim com 3 unidades. Agora eu não sei o que é pior, perder 16 reais do valor da cueca usando ela apenas algumas horas ou ficar com a cueca furada no trabalho.  Serviram muito bem, porém é nítido que o pano não é algodão, e posso confirmar a diferença pois possuo o mesmo modelo de cuecas lupo que comprei em outra ocasião e comparando ambos os panos e costuras essa diferença fica notável.\\nPelo custo beneficio e mesmo sendo um material diferente, aparenta valer a pena, porém, só o tempo (e algumas lavagens rs) irá dizer se é de qualidade.       +10mil  232.89     0.814815             0.334178         0.213115      0.378585        463            25              3           10000.0    0.042292       0.176444\n",
      "1           2         Kit Com 10 Cuecas Boxer Algodão Sem Costura Zorba 781   4.7        5682.0      20.0            zorba          algodão            Masculino     não definido                                                                                                                                                               O tecido é bom e são confortáveis. Só que a numeração não é precisa, visto 40 então tentei comprar a p conforme especificado no guia de tamanho. Porém, para minha sorte não tinha mais p disponível e eu comprei m. O resultado é que caiu perfeitamente. Então uma dica é comprar um tamanho maior. Antes deixar o bicho solto do quê sem ar.                                Vendo comentários de outros consumidores vejo que quanto ao tamanho realmente há problemas; tenho 1. 85 e peso 88 kg, pedi o tamanho maior disponível, gg, e ficou um pouco apertado mesmo assim. Já comprei em lojas exatamente a mesma medida e dá pra notar a diferença. Mas no geral o produto é bom, só atentem para o tamanho.                                                                                                                                                                                                                                                                                                                        Produto não é nem de longe original, tecido grosso e com pouco elastano.       +50mil  199.90     0.888889             0.625937         0.245902      0.322329        838            25              1           50000.0    0.009095       0.176444\n",
      "2           3   Kit 10 Cuecas Boxer Mash Algodão Cotton Box Original Oferta   4.6        1700.0      22.0             mash          algodão            Masculino  primavera/verão  As cuecas são boas, porém meu marido usa g e pedir gg por causa dos outros comentários de compradores que falaram ser forma pequena. Então ficaram muito grandes!!! com certeza logo vão lacear por esse motivo. Tentar lavar a mão para evitar que fique caindo tão rápido. Recomendo a compra, porém podem pedir o tamanho correto que usam. Sem essa presepada de pedir tamanho maior. Sobre qualidade somente depois de lavar para saber ao certo!!! na próxima, pedirei o número que ele realmente usa.                                                                                                                                                                               E o tamanho certo, mas em baixo dela, fica muito curto, apertado demais. Aperta todos os ovos, na moral me arrependo de ter comprado. Nesse valor ainda, melhor ter comprado da lupo.                                                                                                                                                                                                                                                          Produto não parece.\\nOriginal e veio 2 modelos completamente distintos. Costuras grosseiras, elastico parece esgarçado e com rebarbas.       +10mil  229.39     0.851852             0.187197         0.278689      0.372617        494            25              7           10000.0    0.010914       0.176444\n",
      "3           4        Kit 3 Short Jeans Feminino Cintura Alta Barato Atacado   4.4         507.0       9.0     menina linda             jean             Feminino  primavera/verão                                                                                                                                                                                                                                                                                                                                                                                                              Estou encantada com essas peças!.\\nOs shorts são lindos e super confortáveis, comprem sem medo!.                                                                                                                                                                                                                                                                                                                        Recomendo, tecido confortável, igual a foto.                                                                                                                                                                                                                                                                                                                       Gostei muito dos shorts, material bom, para usar no dia a dia está ótimo.        +1000  129.20     0.777778             0.055751         0.065574      0.201767        509            74              7            1000.0    0.010005       0.025466\n",
      "4           5  Blusa + Calça Térmica Treino Futebol Criança Infantil Fleece   4.7          58.0       5.0  roupa zero grau  termico unissex  Sem gênero infantil   outono/inverno                                                                                                                                                   Produto ótimo , mesmo após várias lavagens não forma bolinha, não encolhe , não desbota.\\nJá tinha comprado ano passado e comprei novamente esse ano.\\nMinha filha tem 5 anos é magrinha, comprei o tamanho 8 e ficou folgadinho, vai usar bastante.\\nMeu filho de 10 anos comprei o 14 e também ficou bem folgadinho.\\nPodem comprar sem medo de errar. 😊.                                                                                                                                                                                                                                                                                     Produto de boa qualidade.\\nNão gruda pêlos e nem faz bolinha.\\nSuper quentinha.                                                                                                                                                                                                                                                                                                                                                  Super quentinho. Só achei a gola muito aberta.         +100   78.03     0.888889             0.006280         0.000000      0.114508        669           166              3             100.0    0.002274       0.000910\n"
     ]
    }
   ],
   "source": [
    "import matplotlib.pyplot as plt\n",
    "import seaborn as sns\n",
    "import pandas as pd\n",
    "\n",
    "df = pd.read_csv('./data/ecommerce_estatistica.csv')\n",
    "print(df.head().to_string())"
   ]
  },
  {
   "cell_type": "markdown",
   "metadata": {},
   "source": [
    "## Gráfico de Histograma"
   ]
  },
  {
   "cell_type": "code",
   "execution_count": 4,
   "metadata": {},
   "outputs": [
    {
     "ename": "KeyError",
     "evalue": "'preco'",
     "output_type": "error",
     "traceback": [
      "\u001b[1;31m---------------------------------------------------------------------------\u001b[0m",
      "\u001b[1;31mKeyError\u001b[0m                                  Traceback (most recent call last)",
      "File \u001b[1;32mc:\\Users\\igora\\OneDrive\\Documentos\\GitHub\\data_analysis_notebook\\venv\\Lib\\site-packages\\pandas\\core\\indexes\\base.py:3805\u001b[0m, in \u001b[0;36mIndex.get_loc\u001b[1;34m(self, key)\u001b[0m\n\u001b[0;32m   3804\u001b[0m \u001b[39mtry\u001b[39;00m:\n\u001b[1;32m-> 3805\u001b[0m     \u001b[39mreturn\u001b[39;00m \u001b[39mself\u001b[39;49m\u001b[39m.\u001b[39;49m_engine\u001b[39m.\u001b[39;49mget_loc(casted_key)\n\u001b[0;32m   3806\u001b[0m \u001b[39mexcept\u001b[39;00m \u001b[39mKeyError\u001b[39;00m \u001b[39mas\u001b[39;00m err:\n",
      "File \u001b[1;32mindex.pyx:167\u001b[0m, in \u001b[0;36mpandas._libs.index.IndexEngine.get_loc\u001b[1;34m()\u001b[0m\n",
      "File \u001b[1;32mindex.pyx:196\u001b[0m, in \u001b[0;36mpandas._libs.index.IndexEngine.get_loc\u001b[1;34m()\u001b[0m\n",
      "File \u001b[1;32mpandas\\\\_libs\\\\hashtable_class_helper.pxi:7081\u001b[0m, in \u001b[0;36mpandas._libs.hashtable.PyObjectHashTable.get_item\u001b[1;34m()\u001b[0m\n",
      "File \u001b[1;32mpandas\\\\_libs\\\\hashtable_class_helper.pxi:7089\u001b[0m, in \u001b[0;36mpandas._libs.hashtable.PyObjectHashTable.get_item\u001b[1;34m()\u001b[0m\n",
      "\u001b[1;31mKeyError\u001b[0m: 'preco'",
      "\nThe above exception was the direct cause of the following exception:\n",
      "\u001b[1;31mKeyError\u001b[0m                                  Traceback (most recent call last)",
      "Cell \u001b[1;32mIn[4], line 1\u001b[0m\n\u001b[1;32m----> 1\u001b[0m plt\u001b[39m.\u001b[39mhist(df[\u001b[39m'\u001b[39;49m\u001b[39mpreco\u001b[39;49m\u001b[39m'\u001b[39;49m])\n\u001b[0;32m      2\u001b[0m plt\u001b[39m.\u001b[39mshow()\n",
      "File \u001b[1;32mc:\\Users\\igora\\OneDrive\\Documentos\\GitHub\\data_analysis_notebook\\venv\\Lib\\site-packages\\pandas\\core\\frame.py:4102\u001b[0m, in \u001b[0;36mDataFrame.__getitem__\u001b[1;34m(self, key)\u001b[0m\n\u001b[0;32m   4100\u001b[0m \u001b[39mif\u001b[39;00m \u001b[39mself\u001b[39m\u001b[39m.\u001b[39mcolumns\u001b[39m.\u001b[39mnlevels \u001b[39m>\u001b[39m \u001b[39m1\u001b[39m:\n\u001b[0;32m   4101\u001b[0m     \u001b[39mreturn\u001b[39;00m \u001b[39mself\u001b[39m\u001b[39m.\u001b[39m_getitem_multilevel(key)\n\u001b[1;32m-> 4102\u001b[0m indexer \u001b[39m=\u001b[39m \u001b[39mself\u001b[39;49m\u001b[39m.\u001b[39;49mcolumns\u001b[39m.\u001b[39;49mget_loc(key)\n\u001b[0;32m   4103\u001b[0m \u001b[39mif\u001b[39;00m is_integer(indexer):\n\u001b[0;32m   4104\u001b[0m     indexer \u001b[39m=\u001b[39m [indexer]\n",
      "File \u001b[1;32mc:\\Users\\igora\\OneDrive\\Documentos\\GitHub\\data_analysis_notebook\\venv\\Lib\\site-packages\\pandas\\core\\indexes\\base.py:3812\u001b[0m, in \u001b[0;36mIndex.get_loc\u001b[1;34m(self, key)\u001b[0m\n\u001b[0;32m   3807\u001b[0m     \u001b[39mif\u001b[39;00m \u001b[39misinstance\u001b[39m(casted_key, \u001b[39mslice\u001b[39m) \u001b[39mor\u001b[39;00m (\n\u001b[0;32m   3808\u001b[0m         \u001b[39misinstance\u001b[39m(casted_key, abc\u001b[39m.\u001b[39mIterable)\n\u001b[0;32m   3809\u001b[0m         \u001b[39mand\u001b[39;00m \u001b[39many\u001b[39m(\u001b[39misinstance\u001b[39m(x, \u001b[39mslice\u001b[39m) \u001b[39mfor\u001b[39;00m x \u001b[39min\u001b[39;00m casted_key)\n\u001b[0;32m   3810\u001b[0m     ):\n\u001b[0;32m   3811\u001b[0m         \u001b[39mraise\u001b[39;00m InvalidIndexError(key)\n\u001b[1;32m-> 3812\u001b[0m     \u001b[39mraise\u001b[39;00m \u001b[39mKeyError\u001b[39;00m(key) \u001b[39mfrom\u001b[39;00m \u001b[39merr\u001b[39;00m\n\u001b[0;32m   3813\u001b[0m \u001b[39mexcept\u001b[39;00m \u001b[39mTypeError\u001b[39;00m:\n\u001b[0;32m   3814\u001b[0m     \u001b[39m# If we have a listlike key, _check_indexing_error will raise\u001b[39;00m\n\u001b[0;32m   3815\u001b[0m     \u001b[39m#  InvalidIndexError. Otherwise we fall through and re-raise\u001b[39;00m\n\u001b[0;32m   3816\u001b[0m     \u001b[39m#  the TypeError.\u001b[39;00m\n\u001b[0;32m   3817\u001b[0m     \u001b[39mself\u001b[39m\u001b[39m.\u001b[39m_check_indexing_error(key)\n",
      "\u001b[1;31mKeyError\u001b[0m: 'preco'"
     ]
    }
   ],
   "source": [
    "plt.hist(df['preco'])\n",
    "plt.show()"
   ]
  },
  {
   "cell_type": "markdown",
   "metadata": {},
   "source": [
    "## Gráfico de dispersão"
   ]
  },
  {
   "cell_type": "code",
   "execution_count": null,
   "metadata": {},
   "outputs": [],
   "source": []
  },
  {
   "cell_type": "markdown",
   "metadata": {},
   "source": [
    "## Mapa de calor"
   ]
  },
  {
   "cell_type": "code",
   "execution_count": null,
   "metadata": {},
   "outputs": [],
   "source": []
  },
  {
   "cell_type": "markdown",
   "metadata": {},
   "source": [
    "## Gráfico de barra"
   ]
  },
  {
   "cell_type": "code",
   "execution_count": null,
   "metadata": {},
   "outputs": [],
   "source": []
  },
  {
   "cell_type": "markdown",
   "metadata": {},
   "source": [
    "## Gráfico de pizza"
   ]
  },
  {
   "cell_type": "code",
   "execution_count": null,
   "metadata": {},
   "outputs": [],
   "source": []
  },
  {
   "cell_type": "markdown",
   "metadata": {},
   "source": [
    "## Gráfico de densidade"
   ]
  },
  {
   "cell_type": "code",
   "execution_count": null,
   "metadata": {},
   "outputs": [],
   "source": []
  },
  {
   "cell_type": "markdown",
   "metadata": {},
   "source": [
    "## Gráfico de Regressão"
   ]
  },
  {
   "cell_type": "code",
   "execution_count": null,
   "metadata": {},
   "outputs": [],
   "source": []
  }
 ],
 "metadata": {
  "kernelspec": {
   "display_name": "venv",
   "language": "python",
   "name": "python3"
  },
  "language_info": {
   "codemirror_mode": {
    "name": "ipython",
    "version": 3
   },
   "file_extension": ".py",
   "mimetype": "text/x-python",
   "name": "python",
   "nbconvert_exporter": "python",
   "pygments_lexer": "ipython3",
   "version": "3.12.4"
  },
  "orig_nbformat": 4
 },
 "nbformat": 4,
 "nbformat_minor": 2
}
